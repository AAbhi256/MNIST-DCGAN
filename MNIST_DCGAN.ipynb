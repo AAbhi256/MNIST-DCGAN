{
  "nbformat": 4,
  "nbformat_minor": 0,
  "metadata": {
    "colab": {
      "name": "DCGAN.ipynb",
      "provenance": []
    },
    "kernelspec": {
      "name": "python3",
      "display_name": "Python 3"
    },
    "accelerator": "GPU"
  },
  "cells": [
    {
      "cell_type": "code",
      "metadata": {
        "id": "VoXnkcacbO08"
      },
      "source": [
        "import numpy as np\n",
        "import pandas as pd\n",
        "import seaborn as sns\n",
        "import matplotlib.pyplot as plt"
      ],
      "execution_count": 1,
      "outputs": []
    },
    {
      "cell_type": "code",
      "metadata": {
        "id": "tlMJU6IKcIsP"
      },
      "source": [
        "from tensorflow.keras.datasets import mnist"
      ],
      "execution_count": 2,
      "outputs": []
    },
    {
      "cell_type": "code",
      "metadata": {
        "id": "_pMHYpujeOiw",
        "colab": {
          "base_uri": "https://localhost:8080/"
        },
        "outputId": "3d995c39-2cdc-44f0-def2-6671240da6cc"
      },
      "source": [
        "(X_train,y_train),(X_test,y_test) = mnist.load_data()"
      ],
      "execution_count": 3,
      "outputs": [
        {
          "output_type": "stream",
          "text": [
            "Downloading data from https://storage.googleapis.com/tensorflow/tf-keras-datasets/mnist.npz\n",
            "11493376/11490434 [==============================] - 0s 0us/step\n"
          ],
          "name": "stdout"
        }
      ]
    },
    {
      "cell_type": "code",
      "metadata": {
        "id": "3B4nvKbGe7P0",
        "colab": {
          "base_uri": "https://localhost:8080/"
        },
        "outputId": "e03d898c-ce85-46b8-baf3-aae4fd7d8464"
      },
      "source": [
        "X_train[0] #pixel values. The actual image is black and white, so one color channel. We're just applying a weird color map"
      ],
      "execution_count": 4,
      "outputs": [
        {
          "output_type": "execute_result",
          "data": {
            "text/plain": [
              "array([[  0,   0,   0,   0,   0,   0,   0,   0,   0,   0,   0,   0,   0,\n",
              "          0,   0,   0,   0,   0,   0,   0,   0,   0,   0,   0,   0,   0,\n",
              "          0,   0],\n",
              "       [  0,   0,   0,   0,   0,   0,   0,   0,   0,   0,   0,   0,   0,\n",
              "          0,   0,   0,   0,   0,   0,   0,   0,   0,   0,   0,   0,   0,\n",
              "          0,   0],\n",
              "       [  0,   0,   0,   0,   0,   0,   0,   0,   0,   0,   0,   0,   0,\n",
              "          0,   0,   0,   0,   0,   0,   0,   0,   0,   0,   0,   0,   0,\n",
              "          0,   0],\n",
              "       [  0,   0,   0,   0,   0,   0,   0,   0,   0,   0,   0,   0,   0,\n",
              "          0,   0,   0,   0,   0,   0,   0,   0,   0,   0,   0,   0,   0,\n",
              "          0,   0],\n",
              "       [  0,   0,   0,   0,   0,   0,   0,   0,   0,   0,   0,   0,   0,\n",
              "          0,   0,   0,   0,   0,   0,   0,   0,   0,   0,   0,   0,   0,\n",
              "          0,   0],\n",
              "       [  0,   0,   0,   0,   0,   0,   0,   0,   0,   0,   0,   0,   3,\n",
              "         18,  18,  18, 126, 136, 175,  26, 166, 255, 247, 127,   0,   0,\n",
              "          0,   0],\n",
              "       [  0,   0,   0,   0,   0,   0,   0,   0,  30,  36,  94, 154, 170,\n",
              "        253, 253, 253, 253, 253, 225, 172, 253, 242, 195,  64,   0,   0,\n",
              "          0,   0],\n",
              "       [  0,   0,   0,   0,   0,   0,   0,  49, 238, 253, 253, 253, 253,\n",
              "        253, 253, 253, 253, 251,  93,  82,  82,  56,  39,   0,   0,   0,\n",
              "          0,   0],\n",
              "       [  0,   0,   0,   0,   0,   0,   0,  18, 219, 253, 253, 253, 253,\n",
              "        253, 198, 182, 247, 241,   0,   0,   0,   0,   0,   0,   0,   0,\n",
              "          0,   0],\n",
              "       [  0,   0,   0,   0,   0,   0,   0,   0,  80, 156, 107, 253, 253,\n",
              "        205,  11,   0,  43, 154,   0,   0,   0,   0,   0,   0,   0,   0,\n",
              "          0,   0],\n",
              "       [  0,   0,   0,   0,   0,   0,   0,   0,   0,  14,   1, 154, 253,\n",
              "         90,   0,   0,   0,   0,   0,   0,   0,   0,   0,   0,   0,   0,\n",
              "          0,   0],\n",
              "       [  0,   0,   0,   0,   0,   0,   0,   0,   0,   0,   0, 139, 253,\n",
              "        190,   2,   0,   0,   0,   0,   0,   0,   0,   0,   0,   0,   0,\n",
              "          0,   0],\n",
              "       [  0,   0,   0,   0,   0,   0,   0,   0,   0,   0,   0,  11, 190,\n",
              "        253,  70,   0,   0,   0,   0,   0,   0,   0,   0,   0,   0,   0,\n",
              "          0,   0],\n",
              "       [  0,   0,   0,   0,   0,   0,   0,   0,   0,   0,   0,   0,  35,\n",
              "        241, 225, 160, 108,   1,   0,   0,   0,   0,   0,   0,   0,   0,\n",
              "          0,   0],\n",
              "       [  0,   0,   0,   0,   0,   0,   0,   0,   0,   0,   0,   0,   0,\n",
              "         81, 240, 253, 253, 119,  25,   0,   0,   0,   0,   0,   0,   0,\n",
              "          0,   0],\n",
              "       [  0,   0,   0,   0,   0,   0,   0,   0,   0,   0,   0,   0,   0,\n",
              "          0,  45, 186, 253, 253, 150,  27,   0,   0,   0,   0,   0,   0,\n",
              "          0,   0],\n",
              "       [  0,   0,   0,   0,   0,   0,   0,   0,   0,   0,   0,   0,   0,\n",
              "          0,   0,  16,  93, 252, 253, 187,   0,   0,   0,   0,   0,   0,\n",
              "          0,   0],\n",
              "       [  0,   0,   0,   0,   0,   0,   0,   0,   0,   0,   0,   0,   0,\n",
              "          0,   0,   0,   0, 249, 253, 249,  64,   0,   0,   0,   0,   0,\n",
              "          0,   0],\n",
              "       [  0,   0,   0,   0,   0,   0,   0,   0,   0,   0,   0,   0,   0,\n",
              "          0,  46, 130, 183, 253, 253, 207,   2,   0,   0,   0,   0,   0,\n",
              "          0,   0],\n",
              "       [  0,   0,   0,   0,   0,   0,   0,   0,   0,   0,   0,   0,  39,\n",
              "        148, 229, 253, 253, 253, 250, 182,   0,   0,   0,   0,   0,   0,\n",
              "          0,   0],\n",
              "       [  0,   0,   0,   0,   0,   0,   0,   0,   0,   0,  24, 114, 221,\n",
              "        253, 253, 253, 253, 201,  78,   0,   0,   0,   0,   0,   0,   0,\n",
              "          0,   0],\n",
              "       [  0,   0,   0,   0,   0,   0,   0,   0,  23,  66, 213, 253, 253,\n",
              "        253, 253, 198,  81,   2,   0,   0,   0,   0,   0,   0,   0,   0,\n",
              "          0,   0],\n",
              "       [  0,   0,   0,   0,   0,   0,  18, 171, 219, 253, 253, 253, 253,\n",
              "        195,  80,   9,   0,   0,   0,   0,   0,   0,   0,   0,   0,   0,\n",
              "          0,   0],\n",
              "       [  0,   0,   0,   0,  55, 172, 226, 253, 253, 253, 253, 244, 133,\n",
              "         11,   0,   0,   0,   0,   0,   0,   0,   0,   0,   0,   0,   0,\n",
              "          0,   0],\n",
              "       [  0,   0,   0,   0, 136, 253, 253, 253, 212, 135, 132,  16,   0,\n",
              "          0,   0,   0,   0,   0,   0,   0,   0,   0,   0,   0,   0,   0,\n",
              "          0,   0],\n",
              "       [  0,   0,   0,   0,   0,   0,   0,   0,   0,   0,   0,   0,   0,\n",
              "          0,   0,   0,   0,   0,   0,   0,   0,   0,   0,   0,   0,   0,\n",
              "          0,   0],\n",
              "       [  0,   0,   0,   0,   0,   0,   0,   0,   0,   0,   0,   0,   0,\n",
              "          0,   0,   0,   0,   0,   0,   0,   0,   0,   0,   0,   0,   0,\n",
              "          0,   0],\n",
              "       [  0,   0,   0,   0,   0,   0,   0,   0,   0,   0,   0,   0,   0,\n",
              "          0,   0,   0,   0,   0,   0,   0,   0,   0,   0,   0,   0,   0,\n",
              "          0,   0]], dtype=uint8)"
            ]
          },
          "metadata": {
            "tags": []
          },
          "execution_count": 4
        }
      ]
    },
    {
      "cell_type": "code",
      "metadata": {
        "id": "zIz1zqsFfW7p",
        "colab": {
          "base_uri": "https://localhost:8080/",
          "height": 283
        },
        "outputId": "415147b3-24b0-428b-888e-1a02c53b9c33"
      },
      "source": [
        "plt.imshow(X_train[0])"
      ],
      "execution_count": 5,
      "outputs": [
        {
          "output_type": "execute_result",
          "data": {
            "text/plain": [
              "<matplotlib.image.AxesImage at 0x7f8c28803898>"
            ]
          },
          "metadata": {
            "tags": []
          },
          "execution_count": 5
        },
        {
          "output_type": "display_data",
          "data": {
            "image/png": "[encoded data removed]",
            "text/plain": [
              "<Figure size 432x288 with 1 Axes>"
            ]
          },
          "metadata": {
            "tags": [],
            "needs_background": "light"
          }
        }
      ]
    },
    {
      "cell_type": "code",
      "metadata": {
        "id": "GzZNZuy-fpJ9",
        "colab": {
          "base_uri": "https://localhost:8080/"
        },
        "outputId": "2c80d381-d987-4142-9f08-d7368fa40666"
      },
      "source": [
        "y_train # y_train[0] shows a five, straight up saying what number it is"
      ],
      "execution_count": 6,
      "outputs": [
        {
          "output_type": "execute_result",
          "data": {
            "text/plain": [
              "array([5, 0, 4, ..., 5, 6, 8], dtype=uint8)"
            ]
          },
          "metadata": {
            "tags": []
          },
          "execution_count": 6
        }
      ]
    },
    {
      "cell_type": "code",
      "metadata": {
        "id": "D7D-GFny33AL"
      },
      "source": [
        "X_train = X_train/255\n",
        "X_train = X_train.reshape(-1,28,28,1) * 2. - 1. #scaling data"
      ],
      "execution_count": 7,
      "outputs": []
    },
    {
      "cell_type": "code",
      "metadata": {
        "id": "Dcfmi8VU4Nou",
        "colab": {
          "base_uri": "https://localhost:8080/"
        },
        "outputId": "badbf068-9816-4214-ee9e-ed113b8d3615"
      },
      "source": [
        "X_train.min()"
      ],
      "execution_count": 8,
      "outputs": [
        {
          "output_type": "execute_result",
          "data": {
            "text/plain": [
              "-1.0"
            ]
          },
          "metadata": {
            "tags": []
          },
          "execution_count": 8
        }
      ]
    },
    {
      "cell_type": "code",
      "metadata": {
        "id": "s0g3ltJZgHI9"
      },
      "source": [
        "only_zeroes = X_train[y_train==0] #only collects the images from X_train that are zeroes"
      ],
      "execution_count": 9,
      "outputs": []
    },
    {
      "cell_type": "code",
      "metadata": {
        "id": "fZWThOELgl6J",
        "colab": {
          "base_uri": "https://localhost:8080/"
        },
        "outputId": "05141d14-d313-4661-c16f-ab9d0c43ec3a"
      },
      "source": [
        "only_zeroes.shape #5923 imgs, 28x28 shape."
      ],
      "execution_count": 10,
      "outputs": [
        {
          "output_type": "execute_result",
          "data": {
            "text/plain": [
              "(5923, 28, 28, 1)"
            ]
          },
          "metadata": {
            "tags": []
          },
          "execution_count": 10
        }
      ]
    },
    {
      "cell_type": "code",
      "metadata": {
        "id": "-k08sgxDgngY",
        "colab": {
          "base_uri": "https://localhost:8080/"
        },
        "outputId": "6cc994dc-6b17-44e8-fe74-9ebbe5fda716"
      },
      "source": [
        "X_train.shape"
      ],
      "execution_count": 11,
      "outputs": [
        {
          "output_type": "execute_result",
          "data": {
            "text/plain": [
              "(60000, 28, 28, 1)"
            ]
          },
          "metadata": {
            "tags": []
          },
          "execution_count": 11
        }
      ]
    },
    {
      "cell_type": "code",
      "metadata": {
        "id": "R37S7CEdgzIw"
      },
      "source": [
        "import tensorflow as tf\n",
        "from tensorflow.keras.models import Sequential\n",
        "from tensorflow.keras.layers import Dense, Reshape, Flatten, Dropout,LeakyReLU,BatchNormalization,Conv2D,Conv2DTranspose #dont need to work bout conv or pool layers, aint a DCGAN\n",
        "from tensorflow.keras.callbacks import EarlyStopping"
      ],
      "execution_count": 12,
      "outputs": []
    },
    {
      "cell_type": "code",
      "metadata": {
        "id": "udhL6G25iK1S"
      },
      "source": [
        "discriminator = Sequential()\n",
        "\n",
        "discriminator.add(Conv2D(64,kernel_size=5,strides=2,padding=\"same\",\n",
        "                         activation=LeakyReLU(0.3),\n",
        "                         input_shape=[28,28,1]))\n",
        "discriminator.add(Dropout(0.5))\n",
        "discriminator.add(Conv2D(128,kernel_size=5,strides=2,padding=\"same\",\n",
        "                         activation=LeakyReLU(0.3)))\n",
        "discriminator.add(Dropout(0.5))\n",
        "discriminator.add(Flatten())\n",
        "discriminator.add(Dense(1,activation=\"sigmoid\"))"
      ],
      "execution_count": 13,
      "outputs": []
    },
    {
      "cell_type": "code",
      "metadata": {
        "id": "opKKSCOciY9C"
      },
      "source": [
        "#coding_size should be less than 28*28 = 784\n",
        "codings_size = 100"
      ],
      "execution_count": 14,
      "outputs": []
    },
    {
      "cell_type": "code",
      "metadata": {
        "id": "K5J4wiqEjNdo"
      },
      "source": [
        "generator =  Sequential()\n",
        "generator.add(Dense(7*7*128,activation='relu',input_shape=[codings_size]))\n",
        "generator.add(Reshape([7,7,128]))\n",
        "generator.add(BatchNormalization())\n",
        "generator.add(Conv2DTranspose(64,kernel_size=5,strides=2,padding=\"same\",\n",
        "                            activation=\"relu\"))\n",
        "generator.add(BatchNormalization())\n",
        "generator.add(Conv2DTranspose(1,kernel_size=5,strides=2,padding=\"same\",\n",
        "                              activation=\"relu\"))\n",
        "\n",
        "#don't compile at all. We want it to be impossible to train unless we train through GAN. obviously, if we don't compile we cannot train it."
      ],
      "execution_count": 15,
      "outputs": []
    },
    {
      "cell_type": "code",
      "metadata": {
        "id": "sB71GiCaj1Gh"
      },
      "source": [
        "GAN = Sequential([generator,discriminator])"
      ],
      "execution_count": 16,
      "outputs": []
    },
    {
      "cell_type": "code",
      "metadata": {
        "id": "-SVxQM2dj7Yx"
      },
      "source": [
        "discriminator.compile(loss=\"binary_crossentropy\",optimizer=\"adam\")\n",
        "discriminator.trainable = False"
      ],
      "execution_count": 17,
      "outputs": []
    },
    {
      "cell_type": "code",
      "metadata": {
        "id": "KZQ0EFbCkAyE"
      },
      "source": [
        "GAN.compile(loss='binary_crossentropy',optimizer='adam',)"
      ],
      "execution_count": 18,
      "outputs": []
    },
    {
      "cell_type": "code",
      "metadata": {
        "id": "XG10lQOlkqf5"
      },
      "source": [
        "batch_size = 32"
      ],
      "execution_count": 19,
      "outputs": []
    },
    {
      "cell_type": "code",
      "metadata": {
        "id": "sZDN-AfRlA-y"
      },
      "source": [
        "my_data = only_zeroes\n",
        "# or: my_data = X_train"
      ],
      "execution_count": 20,
      "outputs": []
    },
    {
      "cell_type": "code",
      "metadata": {
        "id": "mhqLfkv_lbF_",
        "colab": {
          "base_uri": "https://localhost:8080/"
        },
        "outputId": "75181296-2716-4d30-cbe5-8ec229442422"
      },
      "source": [
        "my_data.shape"
      ],
      "execution_count": 21,
      "outputs": [
        {
          "output_type": "execute_result",
          "data": {
            "text/plain": [
              "(5923, 28, 28, 1)"
            ]
          },
          "metadata": {
            "tags": []
          },
          "execution_count": 21
        }
      ]
    },
    {
      "cell_type": "code",
      "metadata": {
        "id": "o2zYaUBBlJrP"
      },
      "source": [
        "dataset = tf.data.Dataset.from_tensor_slices(my_data).shuffle(buffer_size=1000)"
      ],
      "execution_count": 22,
      "outputs": []
    },
    {
      "cell_type": "code",
      "metadata": {
        "id": "HWpty3TDlRma",
        "colab": {
          "base_uri": "https://localhost:8080/"
        },
        "outputId": "f30642a5-459d-40f4-ac4e-500ff84361d4"
      },
      "source": [
        "type(dataset)"
      ],
      "execution_count": 23,
      "outputs": [
        {
          "output_type": "execute_result",
          "data": {
            "text/plain": [
              "tensorflow.python.data.ops.dataset_ops.ShuffleDataset"
            ]
          },
          "metadata": {
            "tags": []
          },
          "execution_count": 23
        }
      ]
    },
    {
      "cell_type": "code",
      "metadata": {
        "id": "ec6dWDUWH-Vf"
      },
      "source": [
        "batch_size=50"
      ],
      "execution_count": 24,
      "outputs": []
    },
    {
      "cell_type": "code",
      "metadata": {
        "id": "KVBUPS6OlTEe"
      },
      "source": [
        "dataset = dataset.batch(batch_size,drop_remainder=True).prefetch(1) #ignore leftover images"
      ],
      "execution_count": 25,
      "outputs": []
    },
    {
      "cell_type": "code",
      "metadata": {
        "id": "2JDWuPMOlgMu"
      },
      "source": [
        "epochs = 20"
      ],
      "execution_count": 26,
      "outputs": []
    },
    {
      "cell_type": "code",
      "metadata": {
        "id": "lvoFZEgslnxk",
        "colab": {
          "base_uri": "https://localhost:8080/"
        },
        "outputId": "66189370-bf25-480b-db51-32f7ab00162d"
      },
      "source": [
        "GAN"
      ],
      "execution_count": 27,
      "outputs": [
        {
          "output_type": "execute_result",
          "data": {
            "text/plain": [
              "<tensorflow.python.keras.engine.sequential.Sequential at 0x7f8c2876ec18>"
            ]
          },
          "metadata": {
            "tags": []
          },
          "execution_count": 27
        }
      ]
    },
    {
      "cell_type": "code",
      "metadata": {
        "id": "kYG8pRpRlrF7",
        "colab": {
          "base_uri": "https://localhost:8080/"
        },
        "outputId": "9daf77d9-4dbe-471c-adaf-cab0ddc021e0"
      },
      "source": [
        "GAN.layers #the two models within(generator, discriminator)"
      ],
      "execution_count": 28,
      "outputs": [
        {
          "output_type": "execute_result",
          "data": {
            "text/plain": [
              "[<tensorflow.python.keras.engine.sequential.Sequential at 0x7f8c204c0cc0>,\n",
              " <tensorflow.python.keras.engine.sequential.Sequential at 0x7f8c287bc5f8>]"
            ]
          },
          "metadata": {
            "tags": []
          },
          "execution_count": 28
        }
      ]
    },
    {
      "cell_type": "code",
      "metadata": {
        "id": "Dzt7kQpAl1Hv",
        "colab": {
          "base_uri": "https://localhost:8080/"
        },
        "outputId": "c3b74103-aa7f-4334-824b-dc9020394d65"
      },
      "source": [
        "GAN.layers[0].layers #layers of generator"
      ],
      "execution_count": 29,
      "outputs": [
        {
          "output_type": "execute_result",
          "data": {
            "text/plain": [
              "[<tensorflow.python.keras.layers.core.Dense at 0x7f8c20450358>,\n",
              " <tensorflow.python.keras.layers.core.Reshape at 0x7f8c20450dd8>,\n",
              " <tensorflow.python.keras.layers.normalization_v2.BatchNormalization at 0x7f8c20455ac8>,\n",
              " <tensorflow.python.keras.layers.convolutional.Conv2DTranspose at 0x7f8c2045df60>,\n",
              " <tensorflow.python.keras.layers.normalization_v2.BatchNormalization at 0x7f8c20473fd0>,\n",
              " <tensorflow.python.keras.layers.convolutional.Conv2DTranspose at 0x7f8c2045d668>]"
            ]
          },
          "metadata": {
            "tags": []
          },
          "execution_count": 29
        }
      ]
    },
    {
      "cell_type": "code",
      "metadata": {
        "id": "WOJ8O0Guqq46",
        "colab": {
          "base_uri": "https://localhost:8080/"
        },
        "outputId": "6996909d-b745-48df-8d1e-8fa656f8a8e8"
      },
      "source": [
        "tf.config.experimental_run_functions_eagerly(True)"
      ],
      "execution_count": 30,
      "outputs": [
        {
          "output_type": "stream",
          "text": [
            "WARNING:tensorflow:From <ipython-input-30-bdb3352f611a>:1: experimental_run_functions_eagerly (from tensorflow.python.eager.def_function) is deprecated and will be removed in a future version.\n",
            "Instructions for updating:\n",
            "Use `tf.config.run_functions_eagerly` instead of the experimental version.\n"
          ],
          "name": "stdout"
        }
      ]
    },
    {
      "cell_type": "code",
      "metadata": {
        "id": "sGcHnq04l68R",
        "colab": {
          "base_uri": "https://localhost:8080/"
        },
        "outputId": "9595e379-01c1-4eda-f63e-f702db10109f"
      },
      "source": [
        "# Grab the seperate components\n",
        "generator, discriminator = GAN.layers\n",
        "\n",
        "# For every epcoh\n",
        "for epoch in range(epochs):\n",
        "    print(f\"Currently on Epoch {epoch+1}\")\n",
        "    i = 0\n",
        "    # For every batch in the dataset\n",
        "    for X_batch in dataset:\n",
        "        i=i+1\n",
        "        if i%100 == 0:\n",
        "            print(f\"\\tCurrently on batch number {i} of {len(my_data)//batch_size}\")\n",
        "        #####################################\n",
        "        ## TRAINING THE DISCRIMINATOR ######\n",
        "        ###################################\n",
        "        \n",
        "        # Create Noise\n",
        "        noise = tf.random.normal(shape=[batch_size, codings_size])\n",
        "        \n",
        "        # Generate numbers based just on noise input\n",
        "        gen_images = generator(noise)\n",
        "        \n",
        "        # Concatenate Generated Images against the Real Ones\n",
        "        # TO use tf.concat, the data types must match!\n",
        "        X_fake_vs_real = tf.concat([gen_images, tf.dtypes.cast(X_batch,tf.float32)], axis=0)\n",
        "        \n",
        "        # Targets set to zero for fake images and 1 for real images\n",
        "        y1 = tf.constant([[0.]] * batch_size + [[1.]] * batch_size)\n",
        "        \n",
        "        # This gets rid of a Keras warning\n",
        "        discriminator.trainable = True\n",
        "        \n",
        "        # Train the discriminator on this batch\n",
        "        discriminator.train_on_batch(X_fake_vs_real, y1)\n",
        "        \n",
        "        \n",
        "        #####################################\n",
        "        ## TRAINING THE GENERATOR     ######\n",
        "        ###################################\n",
        "        \n",
        "        # Create some noise\n",
        "        noise = tf.random.normal(shape=[batch_size, codings_size])\n",
        "        \n",
        "        # We want discriminator to belive that fake images are real\n",
        "        y2 = tf.constant([[1.]] * batch_size)\n",
        "        \n",
        "        # Avois a warning\n",
        "        discriminator.trainable = False\n",
        "        \n",
        "        GAN.train_on_batch(noise, y2)\n",
        "        \n",
        "print(\"TRAINING COMPLETE\")   "
      ],
      "execution_count": 31,
      "outputs": [
        {
          "output_type": "stream",
          "text": [
            "Currently on Epoch 1\n",
            "\tCurrently on batch number 100 of 118\n",
            "Currently on Epoch 2\n",
            "\tCurrently on batch number 100 of 118\n",
            "Currently on Epoch 3\n",
            "\tCurrently on batch number 100 of 118\n",
            "Currently on Epoch 4\n",
            "\tCurrently on batch number 100 of 118\n",
            "Currently on Epoch 5\n",
            "\tCurrently on batch number 100 of 118\n",
            "Currently on Epoch 6\n",
            "\tCurrently on batch number 100 of 118\n",
            "Currently on Epoch 7\n",
            "\tCurrently on batch number 100 of 118\n",
            "Currently on Epoch 8\n",
            "\tCurrently on batch number 100 of 118\n",
            "Currently on Epoch 9\n",
            "\tCurrently on batch number 100 of 118\n",
            "Currently on Epoch 10\n",
            "\tCurrently on batch number 100 of 118\n",
            "Currently on Epoch 11\n",
            "\tCurrently on batch number 100 of 118\n",
            "Currently on Epoch 12\n",
            "\tCurrently on batch number 100 of 118\n",
            "Currently on Epoch 13\n",
            "\tCurrently on batch number 100 of 118\n",
            "Currently on Epoch 14\n",
            "\tCurrently on batch number 100 of 118\n",
            "Currently on Epoch 15\n",
            "\tCurrently on batch number 100 of 118\n",
            "Currently on Epoch 16\n",
            "\tCurrently on batch number 100 of 118\n",
            "Currently on Epoch 17\n",
            "\tCurrently on batch number 100 of 118\n",
            "Currently on Epoch 18\n",
            "\tCurrently on batch number 100 of 118\n",
            "Currently on Epoch 19\n",
            "\tCurrently on batch number 100 of 118\n",
            "Currently on Epoch 20\n",
            "\tCurrently on batch number 100 of 118\n",
            "TRAINING COMPLETE\n"
          ],
          "name": "stdout"
        }
      ]
    },
    {
      "cell_type": "code",
      "metadata": {
        "id": "y787cQkorDsp"
      },
      "source": [
        "noise = tf.random.normal(shape=[10,codings_size])"
      ],
      "execution_count": 32,
      "outputs": []
    },
    {
      "cell_type": "code",
      "metadata": {
        "id": "WoVD5o_HrK1W",
        "colab": {
          "base_uri": "https://localhost:8080/"
        },
        "outputId": "4973b3ee-aa67-486b-d268-07b223a75e9d"
      },
      "source": [
        "noise.shape"
      ],
      "execution_count": 33,
      "outputs": [
        {
          "output_type": "execute_result",
          "data": {
            "text/plain": [
              "TensorShape([10, 100])"
            ]
          },
          "metadata": {
            "tags": []
          },
          "execution_count": 33
        }
      ]
    },
    {
      "cell_type": "code",
      "metadata": {
        "id": "FVPOoYAdrMUF",
        "colab": {
          "base_uri": "https://localhost:8080/",
          "height": 102
        },
        "outputId": "a7b0b266-20a4-4874-8259-faff3e9c6994"
      },
      "source": [
        "plt.imshow(noise)"
      ],
      "execution_count": 34,
      "outputs": [
        {
          "output_type": "execute_result",
          "data": {
            "text/plain": [
              "<matplotlib.image.AxesImage at 0x7f8c293d3c18>"
            ]
          },
          "metadata": {
            "tags": []
          },
          "execution_count": 34
        },
        {
          "output_type": "display_data",
          "data": {
            "image/png": "[encoded data removed]",
            "text/plain": [
              "<Figure size 432x288 with 1 Axes>"
            ]
          },
          "metadata": {
            "tags": [],
            "needs_background": "light"
          }
        }
      ]
    },
    {
      "cell_type": "code",
      "metadata": {
        "id": "Pc4zpuMdrQAJ"
      },
      "source": [
        "images = generator(noise)"
      ],
      "execution_count": 35,
      "outputs": []
    },
    {
      "cell_type": "code",
      "metadata": {
        "id": "EX4PNDPVrVMM",
        "colab": {
          "base_uri": "https://localhost:8080/"
        },
        "outputId": "08399195-361a-4bbb-e27b-9a4a78272f03"
      },
      "source": [
        "images.shape #ten imgs, 28x28 each"
      ],
      "execution_count": 36,
      "outputs": [
        {
          "output_type": "execute_result",
          "data": {
            "text/plain": [
              "TensorShape([10, 28, 28, 1])"
            ]
          },
          "metadata": {
            "tags": []
          },
          "execution_count": 36
        }
      ]
    },
    {
      "cell_type": "code",
      "metadata": {
        "id": "lCFTrKDm6jac"
      },
      "source": [
        "example_image = images[9].numpy().reshape(28,28)"
      ],
      "execution_count": 45,
      "outputs": []
    },
    {
      "cell_type": "code",
      "metadata": {
        "colab": {
          "base_uri": "https://localhost:8080/",
          "height": 283
        },
        "id": "NXQAOoek6zQr",
        "outputId": "eb8bb44e-e365-48c8-c843-6c43e0d30166"
      },
      "source": [
        "plt.imshow(example_image)"
      ],
      "execution_count": 46,
      "outputs": [
        {
          "output_type": "execute_result",
          "data": {
            "text/plain": [
              "<matplotlib.image.AxesImage at 0x7f8b810d70b8>"
            ]
          },
          "metadata": {
            "tags": []
          },
          "execution_count": 46
        },
        {
          "output_type": "display_data",
          "data": {
            "image/png": "[encoded data removed]",
            "text/plain": [
              "<Figure size 432x288 with 1 Axes>"
            ]
          },
          "metadata": {
            "tags": [],
            "needs_background": "light"
          }
        }
      ]
    }
  ]
}